{
 "cells": [
  {
   "cell_type": "code",
   "execution_count": 1,
   "metadata": {},
   "outputs": [
    {
     "name": "stderr",
     "output_type": "stream",
     "text": [
      "Using TensorFlow backend.\n"
     ]
    }
   ],
   "source": [
    "import numpy as np \n",
    "import pandas as pd \n",
    "import matplotlib.pyplot as plt\n",
    "from matplotlib.offsetbox import OffsetImage, AnnotationBbox\n",
    "%matplotlib inline\n",
    "import tensorflow as tf\n",
    "import keras\n",
    "import glob\n",
    "import cv2\n",
    "import pickle, datetime\n",
    "\n",
    "from keras.models import Model, Sequential\n",
    "from keras.layers import Dense, Dropout, Flatten, Conv2D, MaxPooling2D,GlobalAveragePooling2D\n",
    "from keras.layers import LSTM, Input, TimeDistributed,Convolution2D,Activation\n",
    "from keras.layers.convolutional import ZeroPadding2D\n",
    "from keras.optimizers import RMSprop, SGD\n",
    "from keras.layers.normalization import BatchNormalization\n",
    "from keras.utils import np_utils\n",
    "from keras import optimizers\n",
    "from keras.preprocessing import sequence\n",
    "from keras.preprocessing.image import ImageDataGenerator, array_to_img, img_to_array, load_img\n",
    "from keras.models import load_model\n",
    "\n",
    "from sklearn.preprocessing import LabelBinarizer\n",
    "from sklearn.ensemble import RandomForestClassifier\n",
    "from sklearn.metrics import accuracy_score\n",
    "# Import the backend\n",
    "from keras import backend as K\n",
    "K.tensorflow_backend._get_available_gpus()\n",
    "import os"
   ]
  },
  {
   "cell_type": "code",
   "execution_count": 2,
   "metadata": {},
   "outputs": [
    {
     "name": "stdout",
     "output_type": "stream",
     "text": [
      "['Trainexample', 'Trainexample1', 'Validation-Example', 'Validation-Example1']\n"
     ]
    }
   ],
   "source": [
    "print(os.listdir(\"C://Users//Mithun//Documents//Project Dhwani CNNRF//ImageModels-master//ImageModels-master//Example\"))"
   ]
  },
  {
   "cell_type": "markdown",
   "metadata": {},
   "source": [
    "### Read the train & test Images and preprocessing"
   ]
  },
  {
   "cell_type": "code",
   "execution_count": 3,
   "metadata": {
    "collapsed": true
   },
   "outputs": [],
   "source": [
    "train_fruit_images = []\n",
    "train_fruit_labels = [] \n",
    "for directory_path in glob.glob(\"Example/Trainexample1/*\"):\n",
    "    fruit_label = directory_path.split(\"\\\\\")[-1]\n",
    "    for img_path in glob.glob(os.path.join(directory_path, \"*.jpg\")):\n",
    "        img = cv2.imread(img_path, cv2.IMREAD_COLOR)       \n",
    "        img = cv2.resize(img, (227, 227))\n",
    "        img = cv2.cvtColor(img, cv2.COLOR_RGB2BGR)\n",
    "        train_fruit_images.append(img)\n",
    "        train_fruit_labels.append(fruit_label)\n",
    "train_fruit_images = np.array(train_fruit_images)\n",
    "train_fruit_labels = np.array(train_fruit_labels)"
   ]
  },
  {
   "cell_type": "code",
   "execution_count": 4,
   "metadata": {
    "collapsed": true
   },
   "outputs": [],
   "source": [
    "label_to_id = {v:i for i,v in enumerate(np.unique(train_fruit_labels))}\n",
    "id_to_label = {v: k for k, v in label_to_id.items()}\n",
    "train_label_ids = np.array([label_to_id[x] for x in train_fruit_labels])\n",
    "\n"
   ]
  },
  {
   "cell_type": "code",
   "execution_count": 5,
   "metadata": {},
   "outputs": [
    {
     "data": {
      "text/plain": [
       "((2637, 227, 227, 3), (2637,), (2637,))"
      ]
     },
     "execution_count": 5,
     "metadata": {},
     "output_type": "execute_result"
    }
   ],
   "source": [
    "train_fruit_images.shape, train_label_ids.shape, train_fruit_labels.shape"
   ]
  },
  {
   "cell_type": "code",
   "execution_count": 6,
   "metadata": {
    "collapsed": true
   },
   "outputs": [],
   "source": [
    "# test\n",
    "test_fruit_images = []\n",
    "test_fruit_labels = [] \n",
    "for directory_path in glob.glob(\"Example/Validation-Example1/*\"):\n",
    "    fruit_label = directory_path.split(\"\\\\\")[-1]\n",
    "    for img_path in glob.glob(os.path.join(directory_path, \"*.jpg\")):\n",
    "        img = cv2.imread(img_path, cv2.IMREAD_COLOR)\n",
    "        \n",
    "        img = cv2.resize(img, (227, 227))\n",
    "        img = cv2.cvtColor(img, cv2.COLOR_RGB2BGR)\n",
    "        \n",
    "        test_fruit_images.append(img)\n",
    "        test_fruit_labels.append(fruit_label)\n",
    "test_fruit_images = np.array(test_fruit_images)\n",
    "test_fruit_labels = np.array(test_fruit_labels)"
   ]
  },
  {
   "cell_type": "code",
   "execution_count": 7,
   "metadata": {
    "collapsed": true
   },
   "outputs": [],
   "source": [
    "test_label_ids = np.array([label_to_id[x] for x in test_fruit_labels])"
   ]
  },
  {
   "cell_type": "code",
   "execution_count": 8,
   "metadata": {},
   "outputs": [
    {
     "data": {
      "text/plain": [
       "((885, 227, 227, 3), (885,))"
      ]
     },
     "execution_count": 8,
     "metadata": {},
     "output_type": "execute_result"
    }
   ],
   "source": [
    "test_fruit_images.shape, test_label_ids.shape"
   ]
  },
  {
   "cell_type": "code",
   "execution_count": 9,
   "metadata": {},
   "outputs": [
    {
     "name": "stdout",
     "output_type": "stream",
     "text": [
      "(2637, 227, 227, 3) (2637,) (885, 227, 227, 3) (885,) 6\n"
     ]
    }
   ],
   "source": [
    "x_train, y_train, x_test, y_test, N_CATEGORY =train_fruit_images,train_fruit_labels,test_fruit_images,test_fruit_labels,len(label_to_id)\n",
    "\n",
    "print(x_train.shape, y_train.shape, x_test.shape, y_test.shape, N_CATEGORY)"
   ]
  },
  {
   "cell_type": "markdown",
   "metadata": {},
   "source": [
    "### Classes with its ids"
   ]
  },
  {
   "cell_type": "code",
   "execution_count": 163,
   "metadata": {},
   "outputs": [
    {
     "data": {
      "text/plain": [
       "{0: 'Apple Golden 1',\n",
       " 1: 'Avocado',\n",
       " 2: 'Banana',\n",
       " 3: 'Lemon',\n",
       " 4: 'Pineapple',\n",
       " 5: 'Strawberry'}"
      ]
     },
     "execution_count": 163,
     "metadata": {},
     "output_type": "execute_result"
    }
   ],
   "source": [
    "id_to_label"
   ]
  },
  {
   "cell_type": "markdown",
   "metadata": {},
   "source": [
    "### Creation of AlexNet structure of CNN"
   ]
  },
  {
   "cell_type": "raw",
   "metadata": {
    "collapsed": true
   },
   "source": [
    "def get_alexnet(input_shape,nb_classes): \n",
    "    model = Sequential()\n",
    "\n",
    "    # Layer 1\n",
    "    model.add(Convolution2D(96, 11, 11, input_shape = input_shape, border_mode='same'))\n",
    "    model.add(Activation('relu'))\n",
    "    model.add(MaxPooling2D(pool_size=(2, 2)))\n",
    "\n",
    "    # Layer 2\n",
    "    model.add(Convolution2D(128, 5, 5, border_mode='same'))\n",
    "    model.add(Activation('relu'))\n",
    "    model.add(MaxPooling2D(pool_size=(2, 2),strides=2))\n",
    "\n",
    "    # Layer 3\n",
    "    model.add(ZeroPadding2D((1,1)))\n",
    "    model.add(Convolution2D(384, 3, 3, border_mode='same'))\n",
    "    model.add(Activation('relu'))\n",
    "\n",
    "    # Layer 4\n",
    "    model.add(ZeroPadding2D((1,1)))\n",
    "    model.add(Convolution2D(192, 3, 3, border_mode='same'))\n",
    "    model.add(Activation('relu'))\n",
    "\n",
    "    # Layer 5\n",
    "    model.add(ZeroPadding2D((1,1)))\n",
    "    model.add(Convolution2D(128, 3, 3, border_mode='same'))\n",
    "    model.add(Activation('relu'))\n",
    "    model.add(MaxPooling2D(pool_size=(2, 2)))\n",
    "\n",
    "    # Layer 6\n",
    "    model.add(GlobalAveragePooling2D())\n",
    "    model.add(Dense(4096, init='glorot_normal'))\n",
    "    model.add(Activation('relu'))\n",
    "    model.add(Dropout(0.5))\n",
    "\n",
    "    # Layer 7\n",
    "    model.add(Dense(4096, init='glorot_normal'))\n",
    "    model.add(Activation('relu'))\n",
    "    model.add(Dropout(0.5))\n",
    "\n",
    "    # Layer 8\n",
    "    model.add(Dense(nb_classes, init='glorot_normal'))\n",
    "    model.add(Activation('tanh'))\n",
    "    return model"
   ]
  },
  {
   "cell_type": "code",
   "execution_count": 13,
   "metadata": {
    "scrolled": true
   },
   "outputs": [
    {
     "name": "stderr",
     "output_type": "stream",
     "text": [
      "C:\\ProgramData\\Miniconda3\\lib\\site-packages\\ipykernel_launcher.py:6: UserWarning: Update your `Conv2D` call to the Keras 2 API: `Conv2D(96, (11, 11), input_shape=(227, 227,..., padding=\"same\")`\n",
      "  \n"
     ]
    },
    {
     "name": "stdout",
     "output_type": "stream",
     "text": [
      "_________________________________________________________________\n",
      "Layer (type)                 Output Shape              Param #   \n",
      "=================================================================\n",
      "conv2d_1 (Conv2D)            (None, 227, 227, 96)      34944     \n",
      "_________________________________________________________________\n",
      "activation_1 (Activation)    (None, 227, 227, 96)      0         \n",
      "_________________________________________________________________\n",
      "max_pooling2d_1 (MaxPooling2 (None, 113, 113, 96)      0         \n",
      "_________________________________________________________________\n",
      "conv2d_2 (Conv2D)            (None, 113, 113, 128)     307328    \n",
      "_________________________________________________________________\n",
      "activation_2 (Activation)    (None, 113, 113, 128)     0         \n",
      "_________________________________________________________________\n",
      "max_pooling2d_2 (MaxPooling2 (None, 56, 56, 128)       0         \n",
      "_________________________________________________________________\n",
      "zero_padding2d_1 (ZeroPaddin (None, 58, 58, 128)       0         \n",
      "_________________________________________________________________\n",
      "conv2d_3 (Conv2D)            (None, 58, 58, 384)       442752    \n",
      "_________________________________________________________________\n",
      "activation_3 (Activation)    (None, 58, 58, 384)       0         \n",
      "_________________________________________________________________\n",
      "zero_padding2d_2 (ZeroPaddin (None, 60, 60, 384)       0         \n",
      "_________________________________________________________________\n",
      "conv2d_4 (Conv2D)            (None, 60, 60, 192)       663744    \n",
      "_________________________________________________________________\n",
      "activation_4 (Activation)    (None, 60, 60, 192)       0         \n",
      "_________________________________________________________________\n",
      "zero_padding2d_3 (ZeroPaddin (None, 62, 62, 192)       0         \n",
      "_________________________________________________________________\n",
      "conv2d_5 (Conv2D)            (None, 62, 62, 128)       221312    \n",
      "_________________________________________________________________\n",
      "activation_5 (Activation)    (None, 62, 62, 128)       0         \n",
      "_________________________________________________________________\n",
      "max_pooling2d_3 (MaxPooling2 (None, 31, 31, 128)       0         \n",
      "_________________________________________________________________\n",
      "global_average_pooling2d_1 ( (None, 128)               0         \n",
      "_________________________________________________________________\n",
      "dense_1 (Dense)              (None, 4096)              528384    \n",
      "_________________________________________________________________\n",
      "activation_6 (Activation)    (None, 4096)              0         \n",
      "_________________________________________________________________\n",
      "dropout_1 (Dropout)          (None, 4096)              0         \n",
      "_________________________________________________________________\n",
      "dense_2 (Dense)              (None, 4096)              16781312  \n",
      "_________________________________________________________________\n",
      "activation_7 (Activation)    (None, 4096)              0         \n",
      "_________________________________________________________________\n",
      "dropout_2 (Dropout)          (None, 4096)              0         \n",
      "_________________________________________________________________\n",
      "dense_3 (Dense)              (None, 6)                 24582     \n",
      "_________________________________________________________________\n",
      "activation_8 (Activation)    (None, 6)                 0         \n",
      "=================================================================\n",
      "Total params: 19,004,358\n",
      "Trainable params: 19,004,358\n",
      "Non-trainable params: 0\n",
      "_________________________________________________________________\n"
     ]
    },
    {
     "name": "stderr",
     "output_type": "stream",
     "text": [
      "C:\\ProgramData\\Miniconda3\\lib\\site-packages\\ipykernel_launcher.py:11: UserWarning: Update your `Conv2D` call to the Keras 2 API: `Conv2D(128, (5, 5), padding=\"same\")`\n",
      "  # This is added back by InteractiveShellApp.init_path()\n",
      "C:\\ProgramData\\Miniconda3\\lib\\site-packages\\ipykernel_launcher.py:17: UserWarning: Update your `Conv2D` call to the Keras 2 API: `Conv2D(384, (3, 3), padding=\"same\")`\n",
      "C:\\ProgramData\\Miniconda3\\lib\\site-packages\\ipykernel_launcher.py:22: UserWarning: Update your `Conv2D` call to the Keras 2 API: `Conv2D(192, (3, 3), padding=\"same\")`\n",
      "C:\\ProgramData\\Miniconda3\\lib\\site-packages\\ipykernel_launcher.py:27: UserWarning: Update your `Conv2D` call to the Keras 2 API: `Conv2D(128, (3, 3), padding=\"same\")`\n",
      "C:\\ProgramData\\Miniconda3\\lib\\site-packages\\ipykernel_launcher.py:33: UserWarning: Update your `Dense` call to the Keras 2 API: `Dense(4096, kernel_initializer=\"glorot_normal\")`\n",
      "C:\\ProgramData\\Miniconda3\\lib\\site-packages\\ipykernel_launcher.py:38: UserWarning: Update your `Dense` call to the Keras 2 API: `Dense(4096, kernel_initializer=\"glorot_normal\")`\n",
      "C:\\ProgramData\\Miniconda3\\lib\\site-packages\\ipykernel_launcher.py:43: UserWarning: Update your `Dense` call to the Keras 2 API: `Dense(6, kernel_initializer=\"glorot_normal\")`\n"
     ]
    }
   ],
   "source": [
    "alexnet = get_alexnet((227,227,3),N_CATEGORY)\n",
    "alexnet.summary()"
   ]
  },
  {
   "cell_type": "code",
   "execution_count": 16,
   "metadata": {
    "collapsed": true
   },
   "outputs": [],
   "source": [
    "#Normalization of the images and one-hot encoding of the labels\n",
    "alexnet.compile(loss='categorical_crossentropy', optimizer=RMSprop(),metrics=['accuracy'])\n",
    "X_normalized = np.array(x_train / 255.0 - 0.5 )\n",
    "X_normalized_test = np.array(x_test / 255.0 - 0.5 )\n",
    "\n",
    "label_binarizer = LabelBinarizer()\n",
    "y_one_hot = label_binarizer.fit_transform(y_train)\n",
    "y_one_hot_test = label_binarizer.fit_transform(y_test)"
   ]
  },
  {
   "cell_type": "code",
   "execution_count": 17,
   "metadata": {},
   "outputs": [
    {
     "name": "stdout",
     "output_type": "stream",
     "text": [
      "Train on 2637 samples, validate on 885 samples\n",
      "Epoch 1/2\n",
      "2637/2637 [==============================] - 734s 278ms/step - loss: 3.7883 - acc: 0.1866 - val_loss: 3.7667 - val_acc: 0.1853\n",
      "Epoch 2/2\n",
      "2637/2637 [==============================] - 714s 271ms/step - loss: 3.7718 - acc: 0.1866 - val_loss: 3.7667 - val_acc: 0.1853\n"
     ]
    },
    {
     "data": {
      "text/plain": [
       "<keras.callbacks.History at 0x197999a09b0>"
      ]
     },
     "execution_count": 17,
     "metadata": {},
     "output_type": "execute_result"
    }
   ],
   "source": [
    "#Training the AlexNet model with the normalized image data and labels\n",
    "alexnet.fit(X_normalized, y_one_hot, batch_size=5, epochs=2,verbose=1, validation_data=[X_normalized_test,y_one_hot_test])"
   ]
  },
  {
   "cell_type": "markdown",
   "metadata": {},
   "source": [
    "#### Result of the Alexnet\n",
    "The accuracy of the whole AlexNet model is 0.1866 which is 18.66%.\n",
    "\n",
    "Here, the classification is performed by the other Fully-connected layer and Softmax function.\n"
   ]
  },
  {
   "cell_type": "code",
   "execution_count": 21,
   "metadata": {
    "collapsed": true
   },
   "outputs": [],
   "source": [
    "#Save the AlexNet model for the future use(as it takes hours to be trained!)\n",
    "alexnet.save('alexnetfruit.h5') "
   ]
  },
  {
   "cell_type": "markdown",
   "metadata": {},
   "source": [
    "### Feature Extraction by CNN"
   ]
  },
  {
   "cell_type": "code",
   "execution_count": 67,
   "metadata": {},
   "outputs": [
    {
     "data": {
      "text/plain": [
       "<keras.engine.training.Model at 0x1968eaa3208>"
      ]
     },
     "execution_count": 67,
     "metadata": {},
     "output_type": "execute_result"
    }
   ],
   "source": [
    "#Pick the first Fully-Connected layer as the features which will be of dimension (1 x 4096)\n",
    "layer_name = 'dense_1'\n",
    "FC_layer_model = Model(inputs=alexnet.input,\n",
    "                                 outputs=alexnet.get_layer(layer_name).output)"
   ]
  },
  {
   "cell_type": "code",
   "execution_count": 89,
   "metadata": {
    "collapsed": true
   },
   "outputs": [],
   "source": [
    "#Find the Features for n number of train images and we will get n x 4096\n",
    "#This means we will get 4096 features for each images.\n",
    "i=0\n",
    "features=np.zeros(shape=(x_train.shape[0],4096))\n",
    "for directory_path in glob.glob(\"Example/Trainexample1/*\"):\n",
    "    for img_path in glob.glob(os.path.join(directory_path, \"*.jpg\")):\n",
    "        img = cv2.imread(img_path, cv2.IMREAD_COLOR)    \n",
    "        img = cv2.resize(img, (227, 227))\n",
    "        img = cv2.cvtColor(img, cv2.COLOR_RGB2BGR)\n",
    "        img = np.expand_dims(img, axis=0)\n",
    "        FC_output = FC_layer_model.predict(img)\n",
    "        features[i]=FC_output\n",
    "        i+=1\n"
   ]
  },
  {
   "cell_type": "code",
   "execution_count": 92,
   "metadata": {
    "collapsed": true
   },
   "outputs": [],
   "source": [
    "#Save the features of the train images to use it in future.\n",
    "np.save('features', features)"
   ]
  },
  {
   "cell_type": "code",
   "execution_count": null,
   "metadata": {
    "collapsed": true
   },
   "outputs": [],
   "source": [
    "#Name the feature rows as f_0, f_1, f_2...\n",
    "feature_col=[]\n",
    "for i in range(4096):\n",
    "    feature_col.append(\"f_\"+str(i))\n",
    "    i+=1\n",
    "    "
   ]
  },
  {
   "cell_type": "code",
   "execution_count": 147,
   "metadata": {},
   "outputs": [
    {
     "name": "stdout",
     "output_type": "stream",
     "text": [
      "Training Features Shape: (2637, 4096)\n",
      "Training Labels Shape: (2637,)\n"
     ]
    },
    {
     "data": {
      "text/plain": [
       "[0, 1, 2, 3, 4, 5]"
      ]
     },
     "execution_count": 147,
     "metadata": {},
     "output_type": "execute_result"
    }
   ],
   "source": [
    "#Create DataFrame with features and coloumn name\n",
    "train_features=pd.DataFrame(data=features,columns=feature_col)\n",
    "feature_col = np.array(feature_col)\n",
    "\n",
    "train_class = list(np.unique(train_label_ids))\n",
    "print('Training Features Shape:', train_features.shape)\n",
    "print('Training Labels Shape:', train_label_ids.shape)\n",
    "train_class"
   ]
  },
  {
   "cell_type": "markdown",
   "metadata": {},
   "source": [
    "### Random Forest as Classifier"
   ]
  },
  {
   "cell_type": "code",
   "execution_count": 152,
   "metadata": {},
   "outputs": [
    {
     "data": {
      "text/plain": [
       "RandomForestClassifier(bootstrap=True, class_weight=None, criterion='gini',\n",
       "            max_depth=None, max_features=4, max_leaf_nodes=None,\n",
       "            min_impurity_split=1e-07, min_samples_leaf=1,\n",
       "            min_samples_split=2, min_weight_fraction_leaf=0.0,\n",
       "            n_estimators=20, n_jobs=1, oob_score=False, random_state=42,\n",
       "            verbose=0, warm_start=False)"
      ]
     },
     "execution_count": 152,
     "metadata": {},
     "output_type": "execute_result"
    }
   ],
   "source": [
    "#Feed the extracted features with the labels to RANDOM FOREST \n",
    "rf = RandomForestClassifier(n_estimators = 20, random_state = 42,max_features=4)\n",
    "\n",
    "rf.fit(train_features, train_label_ids)"
   ]
  },
  {
   "cell_type": "markdown",
   "metadata": {},
   "source": [
    "### Testing the Novel Algorithm"
   ]
  },
  {
   "cell_type": "markdown",
   "metadata": {},
   "source": [
    "#### Feature Extraction by CNN (AlexNet)"
   ]
  },
  {
   "cell_type": "code",
   "execution_count": 118,
   "metadata": {
    "collapsed": true
   },
   "outputs": [],
   "source": [
    "#Find the Features from Alexnet's FC layer for n number of test images and we will get n x 4096\n",
    "i=0\n",
    "features_test=np.zeros(shape=(y_test.shape[0],4096))\n",
    "for directory_path in glob.glob(\"Example/Validation-Example1//*\"):\n",
    "    for img_path in glob.glob(os.path.join(directory_path, \"*.jpg\")):\n",
    "        img = cv2.imread(img_path, cv2.IMREAD_COLOR)    \n",
    "        img = cv2.resize(img, (227, 227))\n",
    "        img = cv2.cvtColor(img, cv2.COLOR_RGB2BGR)\n",
    "        img = np.expand_dims(img, axis=0)\n",
    "        FC_output = FC_layer_model.predict(img)\n",
    "        features_test[i]=FC_output\n",
    "        i+=1\n"
   ]
  },
  {
   "cell_type": "code",
   "execution_count": 137,
   "metadata": {},
   "outputs": [
    {
     "name": "stdout",
     "output_type": "stream",
     "text": [
      "Test Features Shape: (885, 4096)\n",
      "Test Labels Shape: (885,)\n"
     ]
    }
   ],
   "source": [
    "#Create DataFrame with features and coloumn name\n",
    "test_features=pd.DataFrame(data=features_test,columns=feature_col)\n",
    "feature_col = np.array(feature_col)\n",
    "\n",
    "print('Test Features Shape:', test_features.shape)\n",
    "print('Test Labels Shape:', test_label_ids.shape)\n"
   ]
  },
  {
   "cell_type": "markdown",
   "metadata": {},
   "source": [
    "#### Classification by Random Forest"
   ]
  },
  {
   "cell_type": "code",
   "execution_count": 153,
   "metadata": {
    "collapsed": true
   },
   "outputs": [],
   "source": [
    "#Feed the features of the test images to Random Forest Classifier to predict its class\n",
    "predictions = rf.predict(test_features)"
   ]
  },
  {
   "cell_type": "markdown",
   "metadata": {},
   "source": [
    "### Checking the Accuracy of the Novel Model"
   ]
  },
  {
   "cell_type": "code",
   "execution_count": 161,
   "metadata": {},
   "outputs": [
    {
     "name": "stdout",
     "output_type": "stream",
     "text": [
      "Accuracy: 85.8757062147 %.\n"
     ]
    }
   ],
   "source": [
    "accuracy=accuracy_score(predictions , test_label_ids)\n",
    "print('Accuracy:', accuracy*100, '%.')"
   ]
  },
  {
   "cell_type": "markdown",
   "metadata": {},
   "source": [
    "### Comparision of CNN vs CNN+RF\n",
    "\n",
    "- Accuracy of CNN: 18.66%\n",
    "- Accuracy of CNN+RF: 85.88%\n",
    "\n",
    "From the results above it is crystal clear that merging Random Forest with the CNN gives almost 5 times better accuracy."
   ]
  },
  {
   "cell_type": "markdown",
   "metadata": {},
   "source": [
    "## Let's have some fun!!\n",
    "\n",
    "Give the path of any fruit image in img_path and Voila!!"
   ]
  },
  {
   "cell_type": "code",
   "execution_count": 184,
   "metadata": {},
   "outputs": [
    {
     "name": "stdout",
     "output_type": "stream",
     "text": [
      "It's Banana\n"
     ]
    },
    {
     "data": {
      "image/png": "[encoded data removed]",
      "text/plain": [
       "<matplotlib.figure.Figure at 0x19692d39588>"
      ]
     },
     "metadata": {},
     "output_type": "display_data"
    }
   ],
   "source": [
    "\n",
    "img_path=\"C://Users//Documents//Project Dhwani CNNRF//ImageModels-master//ImageModels-master//banana.jpg\"\n",
    "img = cv2.imread(img_path, cv2.IMREAD_COLOR)\n",
    "img = cv2.resize(img, (227, 227))\n",
    "img = cv2.cvtColor(img, cv2.COLOR_RGB2BGR)\n",
    "plt.imshow(img)\n",
    "img = np.expand_dims(img, axis=0)\n",
    "FC_output = FC_layer_model.predict(img)\n",
    "image_features=pd.DataFrame(data=FC_output,columns=feature_col)\n",
    "predictions = rf.predict(image_features)\n",
    "print(\"It's\",id_to_label[predictions[0]])"
   ]
  },
  {
   "cell_type": "markdown",
   "metadata": {},
   "source": [
    "## References:\n",
    "\n",
    "- http://euler.stat.yale.edu/~tba3/stat665/lectures/lec18/notebook18.html\n",
    "- http://cs231n.github.io/convolutional-networks/\n",
    "- http://scikit-learn.org/stable/modules/generated/sklearn.ensemble.RandomForestClassifier.html"
   ]
  },
  {
   "cell_type": "code",
   "execution_count": null,
   "metadata": {
    "collapsed": true
   },
   "outputs": [],
   "source": []
  }
 ],
 "metadata": {
  "kernelspec": {
   "display_name": "Python 3",
   "language": "python",
   "name": "python3"
  },
  "language_info": {
   "codemirror_mode": {
    "name": "ipython",
    "version": 3
   },
   "file_extension": ".py",
   "mimetype": "text/x-python",
   "name": "python",
   "nbconvert_exporter": "python",
   "pygments_lexer": "ipython3",
   "version": "3.6.1"
  }
 },
 "nbformat": 4,
 "nbformat_minor": 2
}
